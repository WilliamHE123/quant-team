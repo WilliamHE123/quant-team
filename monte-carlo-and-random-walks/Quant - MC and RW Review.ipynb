{
 "cells": [
  {
   "cell_type": "code",
   "execution_count": null,
   "metadata": {
    "id": "HFnbelyKCCFY"
   },
   "outputs": [],
   "source": [
    "import numpy as np\n",
    "import matplotlib.pyplot as plt"
   ]
  },
  {
   "cell_type": "markdown",
   "metadata": {
    "id": "rc3sdszDCCFc"
   },
   "source": [
    "## EXAMPLE FROM MONTE CARLO LECTURE\n",
    "\n",
    "#### If you break a stick of unit length at a point chosen uniformly at random, then what is the expected length of the shorter stick? What about the ratio of smaller to longer?"
   ]
  },
  {
   "cell_type": "code",
   "execution_count": null,
   "metadata": {
    "id": "CLsBxLY8CCFf"
   },
   "outputs": [],
   "source": [
    "result = []\n",
    "\n",
    "for num_sim in range(10000):\n",
    "    rand_point = np.random.uniform(0, 1)\n",
    "    if rand_point <= 0.5:\n",
    "        short = rand_point\n",
    "    elif rand_point > 0.5:\n",
    "        short = 1 - rand_point\n",
    "    result.append(short)\n",
    "\n",
    "print(\"the expected length of shorter stick: \", np.mean(result))"
   ]
  },
  {
   "cell_type": "code",
   "execution_count": null,
   "metadata": {},
   "outputs": [],
   "source": [
    "plt.hist(result)"
   ]
  },
  {
   "cell_type": "code",
   "execution_count": null,
   "metadata": {},
   "outputs": [],
   "source": [
    "np.mean()"
   ]
  },
  {
   "cell_type": "markdown",
   "metadata": {
    "id": "DIJtI2FICCFg"
   },
   "source": [
    "## FROM LAST WEEK ON RANDOM WALK\n",
    "#### Using Monte Carlo Simulations, simulate 1,000 1D random walks with 200 steps each. Assume that at each iterations there is an equal probability of going left or right.\n",
    "\n",
    "#### Plot a histogram to check the distribution of the ending points.\n",
    "\n",
    "One way to do it is to use np.random.choice, and to get the last element of a list, do \"list_1[-1]\"."
   ]
  },
  {
   "cell_type": "code",
   "execution_count": null,
   "metadata": {
    "id": "lHmLOP53CCFg"
   },
   "outputs": [],
   "source": []
  },
  {
   "cell_type": "markdown",
   "metadata": {
    "id": "ZLpCKOIlCCFg"
   },
   "source": [
    "## FROM BRILLIANT.ORG\n",
    "\n",
    "#### One of the most influential figures in the history of probability theory was Blaise Pascal. His interest in the field began when a friend asked him the following question:\n",
    "\n",
    "#### \"Would it be profitable given 24 rolls of a pair of fair dice to bet against there being at least one double six?\"\n",
    "\n",
    "#### Write a function that uses Monte Carlo to simulate the probability of getting a pair of 6's within twenty-four rolls of a pair of dice."
   ]
  },
  {
   "cell_type": "code",
   "execution_count": null,
   "metadata": {
    "id": "h6ows7CBCCFg"
   },
   "outputs": [],
   "source": []
  },
  {
   "cell_type": "markdown",
   "metadata": {
    "id": "JtEiAabOCCFh"
   },
   "source": [
    "In finance, the log of the stock price $\\log(S_t)$ is a random walk:\n",
    "\n",
    "$$\\log(S_t) = \\log(S_{t-1}) + W_t.$$ Ignore the logs for now, we will focus on geometric brownian motion: \n",
    "$$\\Delta S_k =  \\mu S_k\\Delta t + \\sigma S_k \\Delta Z_k = S_k \\left(\\mu \\Delta t + \\sigma \\Delta Z_k\\right).$$\n",
    "\n",
    "Note: The calculus version of this equation is $$dS_k=\\mu S_kdt + \\sigma S_k dZ_k=S_k(\\mu dt+\\sigma dZ_k)$$\n",
    "\n",
    "\n",
    "### Create 5,000 random walkers with the same initial conditions.\n",
    "\n",
    "### Plot a histogram to check the distribution of their ending points, you can normalize using `density=True`."
   ]
  },
  {
   "cell_type": "code",
   "execution_count": null,
   "metadata": {
    "id": "ati2WJr_CCFh"
   },
   "outputs": [],
   "source": [
    "# hint: S_pos[t+1] = S_pos[t] + S_pos[t]*(mu + sigma*Z[t])"
   ]
  },
  {
   "cell_type": "code",
   "execution_count": null,
   "metadata": {
    "id": "Ob5P_n0ACCFi"
   },
   "outputs": [],
   "source": [
    "# Step 1: Create initial conditions (S0, mu, sigma)\n",
    "# Step 2: How to run one iteration? Should the Z random term be the same every iteration?\n",
    "\n",
    "# What needs to be resetted in every run of the simulation?\n",
    "\n",
    "\n"
   ]
  },
  {
   "cell_type": "code",
   "execution_count": null,
   "metadata": {
    "id": "9XNRIVEbCCFi"
   },
   "outputs": [],
   "source": []
  }
 ],
 "metadata": {
  "colab": {
   "provenance": []
  },
  "kernelspec": {
   "display_name": "Python 3",
   "language": "python",
   "name": "python3"
  },
  "language_info": {
   "codemirror_mode": {
    "name": "ipython",
    "version": 3
   },
   "file_extension": ".py",
   "mimetype": "text/x-python",
   "name": "python",
   "nbconvert_exporter": "python",
   "pygments_lexer": "ipython3",
   "version": "3.8.3"
  }
 },
 "nbformat": 4,
 "nbformat_minor": 1
}
